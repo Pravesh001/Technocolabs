{
 "cells": [
  {
   "cell_type": "code",
   "execution_count": 5,
   "metadata": {},
   "outputs": [
    {
     "name": "stderr",
     "output_type": "stream",
     "text": [
      "<ipython-input-5-5bd66842fb20>:44: DataConversionWarning: A column-vector y was passed when a 1d array was expected. Please change the shape of y to (n_samples, ), for example using ravel().\n",
      "  knn_clf.fit(X_train, y_train)\n"
     ]
    }
   ],
   "source": [
    "\n",
    "import pandas as pd\n",
    "\n",
    "\n",
    "\n",
    "\n",
    "import pickle\n",
    "\n",
    "\n",
    "# In[2]:\n",
    "\n",
    "\n",
    "df = pd.read_csv('log_mini.csv')\n",
    "\n",
    "\n",
    "df_ft = pd.read_csv('tf_mini.csv')\n",
    "\n",
    "\n",
    "# In[4]:\n",
    "\n",
    "\n",
    "df1 = df.merge(df_ft, how='left', left_on='track_id_clean', right_on='track_id')\n",
    "\n",
    "\n",
    "df1.drop('track_id_clean',inplace=True,axis=1)\n",
    "\n",
    "\n",
    "X = df1[ [ 'session_position', 'session_length', 'no_pause_before_play','long_pause_before_play','hist_user_behavior_is_shuffle','premium', 'acousticness','liveness','acoustic_vector_6']]\n",
    "\n",
    "\n",
    "y = df1[['not_skipped']]\n",
    "\n",
    "\n",
    "# In[11]:\n",
    "\n",
    "\n",
    "from sklearn.model_selection import train_test_split\n",
    "X_train, X_test, y_train, y_test = train_test_split(X, y, test_size = 0.20)\n",
    "\n",
    "\n",
    "\n",
    "from sklearn.neighbors import KNeighborsClassifier\n",
    "knn_clf = KNeighborsClassifier(n_neighbors = 4, metric = 'minkowski')  \n",
    "#You can change these hyperparameters like metric etc.\n",
    "knn_clf.fit(X_train, y_train)\n",
    "\n",
    "# Saving model to disk\n",
    "pickle.dump(knn_clf, open('model.pkl','wb'))\n",
    "\n",
    "# Loading model to compare the results\n",
    "model = pickle.load(open('model.pkl','rb'))\n",
    "\n"
   ]
  },
  {
   "cell_type": "code",
   "execution_count": null,
   "metadata": {},
   "outputs": [],
   "source": []
  }
 ],
 "metadata": {
  "kernelspec": {
   "display_name": "Python 3",
   "language": "python",
   "name": "python3"
  },
  "language_info": {
   "codemirror_mode": {
    "name": "ipython",
    "version": 3
   },
   "file_extension": ".py",
   "mimetype": "text/x-python",
   "name": "python",
   "nbconvert_exporter": "python",
   "pygments_lexer": "ipython3",
   "version": "3.8.3"
  }
 },
 "nbformat": 4,
 "nbformat_minor": 4
}
